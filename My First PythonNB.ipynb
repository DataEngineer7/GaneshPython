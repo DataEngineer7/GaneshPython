{
 "cells": [
  {
   "cell_type": "code",
   "execution_count": 1,
   "id": "fae841b7-cc05-4cde-8350-a3a1599b6628",
   "metadata": {},
   "outputs": [
    {
     "name": "stdout",
     "output_type": "stream",
     "text": [
      "GANESH\n"
     ]
    }
   ],
   "source": [
    "print('GANESH')"
   ]
  },
  {
   "cell_type": "code",
   "execution_count": 3,
   "id": "c5dfdd4c-af5b-42f5-97de-6cf981f0d195",
   "metadata": {},
   "outputs": [
    {
     "name": "stdout",
     "output_type": "stream",
     "text": [
      "3.12.7 | packaged by Anaconda, Inc. | (main, Oct  4 2024, 13:17:27) [MSC v.1929 64 bit (AMD64)]\n"
     ]
    }
   ],
   "source": [
    "import sys\n",
    "print(sys.version)"
   ]
  },
  {
   "cell_type": "code",
   "execution_count": 4,
   "id": "c6d9adb1-562f-4393-97d9-625010046b5e",
   "metadata": {},
   "outputs": [
    {
     "name": "stdout",
     "output_type": "stream",
     "text": [
      "3.12.7\n"
     ]
    }
   ],
   "source": [
    "from platform import python_version\n",
    "print(python_version())"
   ]
  },
  {
   "cell_type": "code",
   "execution_count": 5,
   "id": "0c7950b8-dae7-4447-be0e-c2c19c53000f",
   "metadata": {},
   "outputs": [
    {
     "name": "stdout",
     "output_type": "stream",
     "text": [
      "HELLO\n",
      "HELLO\n"
     ]
    }
   ],
   "source": [
    "print('HELLO')\n",
    "print(\"HELLO\")"
   ]
  },
  {
   "cell_type": "code",
   "execution_count": 7,
   "id": "50e56af4-6d62-48c6-afd0-05a2ac8bebdc",
   "metadata": {},
   "outputs": [
    {
     "name": "stdout",
     "output_type": "stream",
     "text": [
      "1\n"
     ]
    }
   ],
   "source": [
    "print(1)"
   ]
  },
  {
   "cell_type": "code",
   "execution_count": 9,
   "id": "8bcc1c95-b9a8-418c-8d31-1cdf101bb5b9",
   "metadata": {},
   "outputs": [
    {
     "name": "stdout",
     "output_type": "stream",
     "text": [
      "l\n",
      "el\n"
     ]
    }
   ],
   "source": [
    "a=\"hello\"\n",
    "print(a[3])\n",
    "print(a[1:3])"
   ]
  },
  {
   "cell_type": "code",
   "execution_count": 10,
   "id": "72f1a3c3-2a11-443b-b613-2019cb4cf204",
   "metadata": {},
   "outputs": [
    {
     "name": "stdout",
     "output_type": "stream",
     "text": [
      "M\n"
     ]
    }
   ],
   "source": [
    "a=\"MSD iS GREAT\"\n",
    "print(a[0])\n",
    "print"
   ]
  },
  {
   "cell_type": "code",
   "execution_count": 7,
   "id": "f14786a4-00eb-43ce-b30c-b7dee2c67549",
   "metadata": {},
   "outputs": [
    {
     "name": "stdout",
     "output_type": "stream",
     "text": [
      "My name is Ganesh, Age is 27 and WE is 3\n"
     ]
    }
   ],
   "source": [
    "name='Ganesh'\n",
    "age=27\n",
    "WE='3'\n",
    "\n",
    "print(f\"My name is {name}, Age is {age} and WE is {WE}\")"
   ]
  },
  {
   "cell_type": "code",
   "execution_count": 10,
   "id": "56540534-1d0e-4387-bc47-0fe1a489e4f6",
   "metadata": {},
   "outputs": [
    {
     "name": "stdout",
     "output_type": "stream",
     "text": [
      "<class 'int'>\n"
     ]
    }
   ],
   "source": [
    "s=3\n",
    "print(type(s))"
   ]
  },
  {
   "cell_type": "code",
   "execution_count": 11,
   "id": "b00ba0a0-a4c6-4169-bdb9-aea78866a65e",
   "metadata": {},
   "outputs": [
    {
     "name": "stdout",
     "output_type": "stream",
     "text": [
      "ganesh\n"
     ]
    }
   ],
   "source": [
    "s=\"Ganesh\"\n",
    "print(s.lower())"
   ]
  },
  {
   "cell_type": "code",
   "execution_count": 15,
   "id": "fffff8db-ba14-4bba-ae59-f3acfcdd1eb9",
   "metadata": {},
   "outputs": [
    {
     "name": "stdout",
     "output_type": "stream",
     "text": [
      "[20, 'Ganesh', 3.14, False]\n",
      "4\n"
     ]
    }
   ],
   "source": [
    "my_list=[20,\"Ganesh\",3.14,False]\n",
    "print(my_list)\n",
    "print(len(my_list))"
   ]
  },
  {
   "cell_type": "code",
   "execution_count": 17,
   "id": "396bed26-ffcc-44e3-aa7b-3fbfd66ffb18",
   "metadata": {},
   "outputs": [
    {
     "name": "stdout",
     "output_type": "stream",
     "text": [
      "[1, 2, 3]\n"
     ]
    }
   ],
   "source": [
    "l=[1,2,3]\n",
    "print(l)"
   ]
  },
  {
   "cell_type": "code",
   "execution_count": 18,
   "id": "fcc884d1-6fa0-4a09-848c-697602e6f1db",
   "metadata": {},
   "outputs": [
    {
     "name": "stdout",
     "output_type": "stream",
     "text": [
      "[1, 2, 3, 5]\n"
     ]
    }
   ],
   "source": [
    "l.append(5)\n",
    "print(l)"
   ]
  },
  {
   "cell_type": "code",
   "execution_count": 20,
   "id": "e536df21-7f80-4be1-938f-e8c213ea7c9b",
   "metadata": {},
   "outputs": [
    {
     "name": "stdout",
     "output_type": "stream",
     "text": [
      "[1, 2, 3, 5, [4, 5, 6]]\n"
     ]
    }
   ],
   "source": [
    "l.append([4,5,6])\n",
    "print(l)"
   ]
  },
  {
   "cell_type": "code",
   "execution_count": 22,
   "id": "644aacfb-8c75-4c3a-88c6-73d6b7a4721b",
   "metadata": {},
   "outputs": [
    {
     "name": "stdout",
     "output_type": "stream",
     "text": [
      "4\n"
     ]
    }
   ],
   "source": [
    "print(l[4][0])"
   ]
  },
  {
   "cell_type": "code",
   "execution_count": 23,
   "id": "c614ae37-4eb0-4d5a-a373-ac761c858052",
   "metadata": {},
   "outputs": [
    {
     "name": "stdout",
     "output_type": "stream",
     "text": [
      "{'a': 10, 'b': 20}\n"
     ]
    }
   ],
   "source": [
    "d={'a':10,'b':20}\n",
    "print(d)"
   ]
  },
  {
   "cell_type": "code",
   "execution_count": 25,
   "id": "a951592b-9e88-4cfd-aa36-a9a18db12a28",
   "metadata": {},
   "outputs": [
    {
     "name": "stdout",
     "output_type": "stream",
     "text": [
      "10\n"
     ]
    }
   ],
   "source": [
    "print(d['a'])"
   ]
  },
  {
   "cell_type": "code",
   "execution_count": 26,
   "id": "ae98364f-935f-4c71-bb7f-0054d636a40f",
   "metadata": {},
   "outputs": [
    {
     "name": "stdout",
     "output_type": "stream",
     "text": [
      "{'name': ['a', 'b', 'c'], 'age': [1, 2]}\n"
     ]
    }
   ],
   "source": [
    "my_new_dict={'name':['a','b','c'],'age':[1,2]}\n",
    "print(my_new_dict)"
   ]
  },
  {
   "cell_type": "code",
   "execution_count": 29,
   "id": "ce13e188-b140-4a96-bc68-890c1a5a9da0",
   "metadata": {},
   "outputs": [
    {
     "name": "stdout",
     "output_type": "stream",
     "text": [
      "[1, 2]\n"
     ]
    }
   ],
   "source": [
    "print(my_new_dict['age'])"
   ]
  },
  {
   "cell_type": "code",
   "execution_count": 30,
   "id": "06737c1e-ef85-4190-b6f1-d93af97ec523",
   "metadata": {},
   "outputs": [
    {
     "name": "stdout",
     "output_type": "stream",
     "text": [
      "{1}\n"
     ]
    }
   ],
   "source": [
    "x=set()\n",
    "x.add(1)\n",
    "print(x)"
   ]
  },
  {
   "cell_type": "code",
   "execution_count": 31,
   "id": "8393a912-9e84-4159-934b-f4336c514fa2",
   "metadata": {},
   "outputs": [
    {
     "name": "stdout",
     "output_type": "stream",
     "text": [
      "{1, 2}\n"
     ]
    }
   ],
   "source": [
    "x.add(2)\n",
    "print(x)"
   ]
  },
  {
   "cell_type": "code",
   "execution_count": 38,
   "id": "59430bd4-73e7-42f9-be91-9dab387c027c",
   "metadata": {},
   "outputs": [
    {
     "name": "stdout",
     "output_type": "stream",
     "text": [
      "a is greater than b\n"
     ]
    }
   ],
   "source": [
    "a=6\n",
    "b=2\n",
    "if(a>b):\n",
    "    print(\"a is greater than b\")\n",
    "elif a==b:\n",
    "    print(\"a is equal to b\")\n",
    "else:\n",
    "    print(\"a is less than b\")\n"
   ]
  },
  {
   "cell_type": "code",
   "execution_count": 41,
   "id": "7e3b4794-2021-480e-af93-fd94ff5f3c96",
   "metadata": {},
   "outputs": [
    {
     "data": {
      "text/plain": [
       "8"
      ]
     },
     "execution_count": 41,
     "metadata": {},
     "output_type": "execute_result"
    }
   ],
   "source": [
    "35%9"
   ]
  },
  {
   "cell_type": "code",
   "execution_count": 46,
   "id": "a7d7b6f9-425f-408a-b253-024e301c235d",
   "metadata": {},
   "outputs": [
    {
     "name": "stdout",
     "output_type": "stream",
     "text": [
      "This 1 is an odd number\n",
      "This 3 is an odd number\n",
      "This 5 is an odd number\n",
      "This 7 is an odd number\n",
      "This 9 is an odd number\n"
     ]
    }
   ],
   "source": [
    "list_1=[0,1,2,3,4,5,6,7,8,9,10,11,12,13,14]\n",
    "for i in range(1,10,2):\n",
    "    if i%2==0:\n",
    "        print(f\"This {i} is an even number\")\n",
    "    else:\n",
    "        print(f\"This {i} is an odd number\")"
   ]
  },
  {
   "cell_type": "code",
   "execution_count": null,
   "id": "25e72ef7-84c2-4896-b1fd-f6e1b711cb81",
   "metadata": {},
   "outputs": [],
   "source": []
  }
 ],
 "metadata": {
  "kernelspec": {
   "display_name": "Python 3 (ipykernel)",
   "language": "python",
   "name": "python3"
  },
  "language_info": {
   "codemirror_mode": {
    "name": "ipython",
    "version": 3
   },
   "file_extension": ".py",
   "mimetype": "text/x-python",
   "name": "python",
   "nbconvert_exporter": "python",
   "pygments_lexer": "ipython3",
   "version": "3.12.7"
  }
 },
 "nbformat": 4,
 "nbformat_minor": 5
}
